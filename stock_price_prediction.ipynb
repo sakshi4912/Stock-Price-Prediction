{
 "nbformat": 4,
 "nbformat_minor": 0,
 "metadata": {
  "colab": {
   "provenance": []
  },
  "kernelspec": {
   "name": "python3",
   "display_name": "Python 3"
  },
  "language_info": {
   "name": "python"
  }
 },
 "cells": [
  {
   "cell_type": "code",
   "metadata": {
    "id": "-_U-p7wqoVPs",
    "ExecuteTime": {
     "end_time": "2025-07-27T09:19:33.414179Z",
     "start_time": "2025-07-27T09:19:33.402423Z"
    }
   },
   "source": [
    "#import labraries\n",
    "import pandas as pd\n",
    "import numpy as np\n",
    "import matplotlib.pyplot as plt\n",
    "import yfinance as yf"
   ],
   "outputs": [],
   "execution_count": 36
  },
  {
   "cell_type": "code",
   "source": [
    "start=\"2014-01-01\"\n",
    "end=\"2024-12-12\"\n",
    "stock=\"GOOG\"\n",
    "data=yf.download(stock,start,end)"
   ],
   "metadata": {
    "colab": {
     "base_uri": "https://localhost:8080/"
    },
    "id": "Dissv8U2ocTS",
    "outputId": "a93db06e-de8f-43bf-cccc-9bd455124312",
    "ExecuteTime": {
     "end_time": "2025-07-27T09:19:34.094503Z",
     "start_time": "2025-07-27T09:19:33.635297Z"
    }
   },
   "outputs": [
    {
     "name": "stderr",
     "output_type": "stream",
     "text": [
      "C:\\Users\\asus\\AppData\\Local\\Temp\\ipykernel_31264\\3900123236.py:4: FutureWarning: YF.download() has changed argument auto_adjust default to True\n",
      "  data=yf.download(stock,start,end)\n",
      "[*********************100%***********************]  1 of 1 completed\n"
     ]
    }
   ],
   "execution_count": 37
  },
  {
   "cell_type": "code",
   "source": [
    "data"
   ],
   "metadata": {
    "colab": {
     "base_uri": "https://localhost:8080/",
     "height": 486
    },
    "id": "kdKu-UKQpinH",
    "outputId": "c05fbff8-a46c-4b05-9bb6-871217fcd09f",
    "ExecuteTime": {
     "end_time": "2025-07-27T09:19:34.180993Z",
     "start_time": "2025-07-27T09:19:34.158393Z"
    }
   },
   "outputs": [
    {
     "data": {
      "text/plain": [
       "Price            Close        High         Low        Open     Volume\n",
       "Ticker            GOOG        GOOG        GOOG        GOOG       GOOG\n",
       "Date                                                                 \n",
       "2014-01-02   27.560261   27.674898   27.439930   27.618199   73129082\n",
       "2014-01-03   27.359213   27.654593   27.357480   27.606808   66917888\n",
       "2014-01-06   27.664249   27.702378   27.394866   27.557536   71037271\n",
       "2014-01-07   28.197569   28.218120   27.759328   27.854403  102486711\n",
       "2014-01-08   28.256248   28.407034   28.059657   28.374351   90036218\n",
       "...                ...         ...         ...         ...        ...\n",
       "2024-12-05  173.705536  177.093755  173.406573  176.705108   16145500\n",
       "2024-12-06  175.877991  176.225780  172.948183  173.277041   13319500\n",
       "2024-12-09  176.686096  177.623886  174.990057  175.304323   19887800\n",
       "2024-12-10  186.094055  187.590549  182.243076  184.103723   34317400\n",
       "2024-12-11  196.250275  196.429847  185.824685  186.263659   41664500\n",
       "\n",
       "[2755 rows x 5 columns]"
      ],
      "text/html": [
       "<div>\n",
       "<style scoped>\n",
       "    .dataframe tbody tr th:only-of-type {\n",
       "        vertical-align: middle;\n",
       "    }\n",
       "\n",
       "    .dataframe tbody tr th {\n",
       "        vertical-align: top;\n",
       "    }\n",
       "\n",
       "    .dataframe thead tr th {\n",
       "        text-align: left;\n",
       "    }\n",
       "\n",
       "    .dataframe thead tr:last-of-type th {\n",
       "        text-align: right;\n",
       "    }\n",
       "</style>\n",
       "<table border=\"1\" class=\"dataframe\">\n",
       "  <thead>\n",
       "    <tr>\n",
       "      <th>Price</th>\n",
       "      <th>Close</th>\n",
       "      <th>High</th>\n",
       "      <th>Low</th>\n",
       "      <th>Open</th>\n",
       "      <th>Volume</th>\n",
       "    </tr>\n",
       "    <tr>\n",
       "      <th>Ticker</th>\n",
       "      <th>GOOG</th>\n",
       "      <th>GOOG</th>\n",
       "      <th>GOOG</th>\n",
       "      <th>GOOG</th>\n",
       "      <th>GOOG</th>\n",
       "    </tr>\n",
       "    <tr>\n",
       "      <th>Date</th>\n",
       "      <th></th>\n",
       "      <th></th>\n",
       "      <th></th>\n",
       "      <th></th>\n",
       "      <th></th>\n",
       "    </tr>\n",
       "  </thead>\n",
       "  <tbody>\n",
       "    <tr>\n",
       "      <th>2014-01-02</th>\n",
       "      <td>27.560261</td>\n",
       "      <td>27.674898</td>\n",
       "      <td>27.439930</td>\n",
       "      <td>27.618199</td>\n",
       "      <td>73129082</td>\n",
       "    </tr>\n",
       "    <tr>\n",
       "      <th>2014-01-03</th>\n",
       "      <td>27.359213</td>\n",
       "      <td>27.654593</td>\n",
       "      <td>27.357480</td>\n",
       "      <td>27.606808</td>\n",
       "      <td>66917888</td>\n",
       "    </tr>\n",
       "    <tr>\n",
       "      <th>2014-01-06</th>\n",
       "      <td>27.664249</td>\n",
       "      <td>27.702378</td>\n",
       "      <td>27.394866</td>\n",
       "      <td>27.557536</td>\n",
       "      <td>71037271</td>\n",
       "    </tr>\n",
       "    <tr>\n",
       "      <th>2014-01-07</th>\n",
       "      <td>28.197569</td>\n",
       "      <td>28.218120</td>\n",
       "      <td>27.759328</td>\n",
       "      <td>27.854403</td>\n",
       "      <td>102486711</td>\n",
       "    </tr>\n",
       "    <tr>\n",
       "      <th>2014-01-08</th>\n",
       "      <td>28.256248</td>\n",
       "      <td>28.407034</td>\n",
       "      <td>28.059657</td>\n",
       "      <td>28.374351</td>\n",
       "      <td>90036218</td>\n",
       "    </tr>\n",
       "    <tr>\n",
       "      <th>...</th>\n",
       "      <td>...</td>\n",
       "      <td>...</td>\n",
       "      <td>...</td>\n",
       "      <td>...</td>\n",
       "      <td>...</td>\n",
       "    </tr>\n",
       "    <tr>\n",
       "      <th>2024-12-05</th>\n",
       "      <td>173.705536</td>\n",
       "      <td>177.093755</td>\n",
       "      <td>173.406573</td>\n",
       "      <td>176.705108</td>\n",
       "      <td>16145500</td>\n",
       "    </tr>\n",
       "    <tr>\n",
       "      <th>2024-12-06</th>\n",
       "      <td>175.877991</td>\n",
       "      <td>176.225780</td>\n",
       "      <td>172.948183</td>\n",
       "      <td>173.277041</td>\n",
       "      <td>13319500</td>\n",
       "    </tr>\n",
       "    <tr>\n",
       "      <th>2024-12-09</th>\n",
       "      <td>176.686096</td>\n",
       "      <td>177.623886</td>\n",
       "      <td>174.990057</td>\n",
       "      <td>175.304323</td>\n",
       "      <td>19887800</td>\n",
       "    </tr>\n",
       "    <tr>\n",
       "      <th>2024-12-10</th>\n",
       "      <td>186.094055</td>\n",
       "      <td>187.590549</td>\n",
       "      <td>182.243076</td>\n",
       "      <td>184.103723</td>\n",
       "      <td>34317400</td>\n",
       "    </tr>\n",
       "    <tr>\n",
       "      <th>2024-12-11</th>\n",
       "      <td>196.250275</td>\n",
       "      <td>196.429847</td>\n",
       "      <td>185.824685</td>\n",
       "      <td>186.263659</td>\n",
       "      <td>41664500</td>\n",
       "    </tr>\n",
       "  </tbody>\n",
       "</table>\n",
       "<p>2755 rows × 5 columns</p>\n",
       "</div>"
      ]
     },
     "execution_count": 38,
     "metadata": {},
     "output_type": "execute_result"
    }
   ],
   "execution_count": 38
  },
  {
   "cell_type": "code",
   "source": [
    "data.reset_index(inplace=True)"
   ],
   "metadata": {
    "id": "2gwiiddgqGG9",
    "ExecuteTime": {
     "end_time": "2025-07-27T09:19:34.353392Z",
     "start_time": "2025-07-27T09:19:34.340891Z"
    }
   },
   "outputs": [],
   "execution_count": 39
  },
  {
   "cell_type": "code",
   "source": [
    "data"
   ],
   "metadata": {
    "colab": {
     "base_uri": "https://localhost:8080/",
     "height": 455
    },
    "id": "2gaMLXwFqUuZ",
    "outputId": "3ecc1151-db57-45e2-913c-a1d8de920fc3",
    "ExecuteTime": {
     "end_time": "2025-07-27T09:19:34.517810Z",
     "start_time": "2025-07-27T09:19:34.495804Z"
    }
   },
   "outputs": [
    {
     "data": {
      "text/plain": [
       "Price        Date       Close        High         Low        Open     Volume\n",
       "Ticker                   GOOG        GOOG        GOOG        GOOG       GOOG\n",
       "0      2014-01-02   27.560261   27.674898   27.439930   27.618199   73129082\n",
       "1      2014-01-03   27.359213   27.654593   27.357480   27.606808   66917888\n",
       "2      2014-01-06   27.664249   27.702378   27.394866   27.557536   71037271\n",
       "3      2014-01-07   28.197569   28.218120   27.759328   27.854403  102486711\n",
       "4      2014-01-08   28.256248   28.407034   28.059657   28.374351   90036218\n",
       "...           ...         ...         ...         ...         ...        ...\n",
       "2750   2024-12-05  173.705536  177.093755  173.406573  176.705108   16145500\n",
       "2751   2024-12-06  175.877991  176.225780  172.948183  173.277041   13319500\n",
       "2752   2024-12-09  176.686096  177.623886  174.990057  175.304323   19887800\n",
       "2753   2024-12-10  186.094055  187.590549  182.243076  184.103723   34317400\n",
       "2754   2024-12-11  196.250275  196.429847  185.824685  186.263659   41664500\n",
       "\n",
       "[2755 rows x 6 columns]"
      ],
      "text/html": [
       "<div>\n",
       "<style scoped>\n",
       "    .dataframe tbody tr th:only-of-type {\n",
       "        vertical-align: middle;\n",
       "    }\n",
       "\n",
       "    .dataframe tbody tr th {\n",
       "        vertical-align: top;\n",
       "    }\n",
       "\n",
       "    .dataframe thead tr th {\n",
       "        text-align: left;\n",
       "    }\n",
       "</style>\n",
       "<table border=\"1\" class=\"dataframe\">\n",
       "  <thead>\n",
       "    <tr>\n",
       "      <th>Price</th>\n",
       "      <th>Date</th>\n",
       "      <th>Close</th>\n",
       "      <th>High</th>\n",
       "      <th>Low</th>\n",
       "      <th>Open</th>\n",
       "      <th>Volume</th>\n",
       "    </tr>\n",
       "    <tr>\n",
       "      <th>Ticker</th>\n",
       "      <th></th>\n",
       "      <th>GOOG</th>\n",
       "      <th>GOOG</th>\n",
       "      <th>GOOG</th>\n",
       "      <th>GOOG</th>\n",
       "      <th>GOOG</th>\n",
       "    </tr>\n",
       "  </thead>\n",
       "  <tbody>\n",
       "    <tr>\n",
       "      <th>0</th>\n",
       "      <td>2014-01-02</td>\n",
       "      <td>27.560261</td>\n",
       "      <td>27.674898</td>\n",
       "      <td>27.439930</td>\n",
       "      <td>27.618199</td>\n",
       "      <td>73129082</td>\n",
       "    </tr>\n",
       "    <tr>\n",
       "      <th>1</th>\n",
       "      <td>2014-01-03</td>\n",
       "      <td>27.359213</td>\n",
       "      <td>27.654593</td>\n",
       "      <td>27.357480</td>\n",
       "      <td>27.606808</td>\n",
       "      <td>66917888</td>\n",
       "    </tr>\n",
       "    <tr>\n",
       "      <th>2</th>\n",
       "      <td>2014-01-06</td>\n",
       "      <td>27.664249</td>\n",
       "      <td>27.702378</td>\n",
       "      <td>27.394866</td>\n",
       "      <td>27.557536</td>\n",
       "      <td>71037271</td>\n",
       "    </tr>\n",
       "    <tr>\n",
       "      <th>3</th>\n",
       "      <td>2014-01-07</td>\n",
       "      <td>28.197569</td>\n",
       "      <td>28.218120</td>\n",
       "      <td>27.759328</td>\n",
       "      <td>27.854403</td>\n",
       "      <td>102486711</td>\n",
       "    </tr>\n",
       "    <tr>\n",
       "      <th>4</th>\n",
       "      <td>2014-01-08</td>\n",
       "      <td>28.256248</td>\n",
       "      <td>28.407034</td>\n",
       "      <td>28.059657</td>\n",
       "      <td>28.374351</td>\n",
       "      <td>90036218</td>\n",
       "    </tr>\n",
       "    <tr>\n",
       "      <th>...</th>\n",
       "      <td>...</td>\n",
       "      <td>...</td>\n",
       "      <td>...</td>\n",
       "      <td>...</td>\n",
       "      <td>...</td>\n",
       "      <td>...</td>\n",
       "    </tr>\n",
       "    <tr>\n",
       "      <th>2750</th>\n",
       "      <td>2024-12-05</td>\n",
       "      <td>173.705536</td>\n",
       "      <td>177.093755</td>\n",
       "      <td>173.406573</td>\n",
       "      <td>176.705108</td>\n",
       "      <td>16145500</td>\n",
       "    </tr>\n",
       "    <tr>\n",
       "      <th>2751</th>\n",
       "      <td>2024-12-06</td>\n",
       "      <td>175.877991</td>\n",
       "      <td>176.225780</td>\n",
       "      <td>172.948183</td>\n",
       "      <td>173.277041</td>\n",
       "      <td>13319500</td>\n",
       "    </tr>\n",
       "    <tr>\n",
       "      <th>2752</th>\n",
       "      <td>2024-12-09</td>\n",
       "      <td>176.686096</td>\n",
       "      <td>177.623886</td>\n",
       "      <td>174.990057</td>\n",
       "      <td>175.304323</td>\n",
       "      <td>19887800</td>\n",
       "    </tr>\n",
       "    <tr>\n",
       "      <th>2753</th>\n",
       "      <td>2024-12-10</td>\n",
       "      <td>186.094055</td>\n",
       "      <td>187.590549</td>\n",
       "      <td>182.243076</td>\n",
       "      <td>184.103723</td>\n",
       "      <td>34317400</td>\n",
       "    </tr>\n",
       "    <tr>\n",
       "      <th>2754</th>\n",
       "      <td>2024-12-11</td>\n",
       "      <td>196.250275</td>\n",
       "      <td>196.429847</td>\n",
       "      <td>185.824685</td>\n",
       "      <td>186.263659</td>\n",
       "      <td>41664500</td>\n",
       "    </tr>\n",
       "  </tbody>\n",
       "</table>\n",
       "<p>2755 rows × 6 columns</p>\n",
       "</div>"
      ]
     },
     "execution_count": 40,
     "metadata": {},
     "output_type": "execute_result"
    }
   ],
   "execution_count": 40
  },
  {
   "cell_type": "code",
   "source": [
    "move_100_days=data.Close.rolling(100).mean()"
   ],
   "metadata": {
    "id": "TdQjD1QOqsVp",
    "ExecuteTime": {
     "end_time": "2025-07-27T09:19:34.948909Z",
     "start_time": "2025-07-27T09:19:34.939057Z"
    }
   },
   "outputs": [],
   "execution_count": 41
  },
  {
   "cell_type": "code",
   "source": [
    "plt.figure(figsize=(8, 6))\n",
    "plt.plot(move_100_days, \"r\", label=\"100-Day Moving Average\")\n",
    "plt.plot(data['Close'], \"g\", label=\"Closing Price\")\n",
    "plt.legend()\n",
    "plt.show()\n"
   ],
   "metadata": {
    "colab": {
     "base_uri": "https://localhost:8080/",
     "height": 522
    },
    "id": "C33DaxCErONm",
    "outputId": "41550cef-bed1-4c8e-c0b6-bddc4f23902e",
    "ExecuteTime": {
     "end_time": "2025-07-27T09:19:35.577325Z",
     "start_time": "2025-07-27T09:19:35.251168Z"
    }
   },
   "outputs": [
    {
     "data": {
      "text/plain": [
       "<Figure size 800x600 with 1 Axes>"
      ],
      "image/png": "[encoded data removed]"
     },
     "metadata": {},
     "output_type": "display_data"
    }
   ],
   "execution_count": 42
  },
  {
   "cell_type": "code",
   "source": [
    "move_200_days=data.Close.rolling(200).mean()"
   ],
   "metadata": {
    "id": "yHF7f8D9r8oj",
    "ExecuteTime": {
     "end_time": "2025-07-27T09:19:35.798453Z",
     "start_time": "2025-07-27T09:19:35.786566Z"
    }
   },
   "outputs": [],
   "execution_count": 43
  },
  {
   "cell_type": "code",
   "source": [
    "plt.figure(figsize=(8,6))\n",
    "plt.plot(move_100_days,'r')\n",
    "plt.plot(move_200_days,'b')\n",
    "plt.plot(data.Close,'g')\n",
    "plt.show()"
   ],
   "metadata": {
    "colab": {
     "base_uri": "https://localhost:8080/",
     "height": 522
    },
    "id": "CYzWAlqBtDjO",
    "outputId": "dfbeaa7e-bc69-465c-948e-0458e1fe2c18",
    "ExecuteTime": {
     "end_time": "2025-07-27T09:19:36.141911Z",
     "start_time": "2025-07-27T09:19:35.896495Z"
    }
   },
   "outputs": [
    {
     "data": {
      "text/plain": [
       "<Figure size 800x600 with 1 Axes>"
      ],
      "image/png": "[encoded data removed]"
     },
     "metadata": {},
     "output_type": "display_data"
    }
   ],
   "execution_count": 44
  },
  {
   "cell_type": "code",
   "source": [
    "data.dropna(inplace=True)"
   ],
   "metadata": {
    "id": "8bmvGuFwtmfW",
    "ExecuteTime": {
     "end_time": "2025-07-27T09:19:36.205665Z",
     "start_time": "2025-07-27T09:19:36.196959Z"
    }
   },
   "outputs": [],
   "execution_count": 45
  },
  {
   "cell_type": "code",
   "source": [
    "#train the data\n",
    "data_train=pd.DataFrame(data.Close[0:int(len(data)*0.80)])\n",
    "data_test=pd.DataFrame(data.Close[int(len(data)*0.80):len(data)])"
   ],
   "metadata": {
    "id": "_5IcXvkwub4k",
    "ExecuteTime": {
     "end_time": "2025-07-27T09:19:36.299275Z",
     "start_time": "2025-07-27T09:19:36.287698Z"
    }
   },
   "outputs": [],
   "execution_count": 46
  },
  {
   "cell_type": "code",
   "source": [
    "data_train.shape[0]\n"
   ],
   "metadata": {
    "colab": {
     "base_uri": "https://localhost:8080/"
    },
    "id": "FJyEk1Z1vBvc",
    "outputId": "b25e54bf-e3ba-4b57-dc68-5f8bbb277562",
    "ExecuteTime": {
     "end_time": "2025-07-27T09:19:36.379615Z",
     "start_time": "2025-07-27T09:19:36.370774Z"
    }
   },
   "outputs": [
    {
     "data": {
      "text/plain": [
       "2204"
      ]
     },
     "execution_count": 47,
     "metadata": {},
     "output_type": "execute_result"
    }
   ],
   "execution_count": 47
  },
  {
   "cell_type": "code",
   "source": [
    "data_test.shape[0]"
   ],
   "metadata": {
    "colab": {
     "base_uri": "https://localhost:8080/"
    },
    "id": "RCqCS8EMvxu4",
    "outputId": "baf896bd-8d23-4ca7-9f85-03db66083f4b",
    "ExecuteTime": {
     "end_time": "2025-07-27T09:19:36.479427Z",
     "start_time": "2025-07-27T09:19:36.469296Z"
    }
   },
   "outputs": [
    {
     "data": {
      "text/plain": [
       "551"
      ]
     },
     "execution_count": 48,
     "metadata": {},
     "output_type": "execute_result"
    }
   ],
   "execution_count": 48
  },
  {
   "cell_type": "code",
   "source": [
    "from sklearn.preprocessing import MinMaxScaler\n",
    "scaler=MinMaxScaler(feature_range=(0,1))"
   ],
   "metadata": {
    "id": "6dxYgwBJvimS",
    "ExecuteTime": {
     "end_time": "2025-07-27T09:19:36.594594Z",
     "start_time": "2025-07-27T09:19:36.585511Z"
    }
   },
   "outputs": [],
   "execution_count": 49
  },
  {
   "cell_type": "code",
   "source": [
    "data_train_scale=scaler.fit_transform(data_train)"
   ],
   "metadata": {
    "id": "iS0Y9dx5wXFE",
    "ExecuteTime": {
     "end_time": "2025-07-27T09:19:36.684056Z",
     "start_time": "2025-07-27T09:19:36.672217Z"
    }
   },
   "outputs": [],
   "execution_count": 50
  },
  {
   "cell_type": "code",
   "source": [
    "x=[]\n",
    "y=[]\n",
    "for i in range(100,data_train_scale.shape[0]):\n",
    "  x.append(data_train_scale[i-100:i])\n",
    "  y.append(data_train_scale[i,0])"
   ],
   "metadata": {
    "id": "Y66yTobsw-24",
    "ExecuteTime": {
     "end_time": "2025-07-27T09:19:36.776953Z",
     "start_time": "2025-07-27T09:19:36.765633Z"
    }
   },
   "outputs": [],
   "execution_count": 51
  },
  {
   "cell_type": "code",
   "source": [
    "x,y=np.array(x),np.array(y)"
   ],
   "metadata": {
    "id": "lLSqJJT-6DH3",
    "ExecuteTime": {
     "end_time": "2025-07-27T09:19:36.982893Z",
     "start_time": "2025-07-27T09:19:36.973382Z"
    }
   },
   "outputs": [],
   "execution_count": 52
  },
  {
   "cell_type": "code",
   "source": [
    "from keras.layers import Dense,Dropout,LSTM\n",
    "from keras.models import Sequential"
   ],
   "metadata": {
    "id": "6Aa1NdRs2-My",
    "ExecuteTime": {
     "end_time": "2025-07-27T09:19:37.099931Z",
     "start_time": "2025-07-27T09:19:37.091930Z"
    }
   },
   "outputs": [],
   "execution_count": 53
  },
  {
   "cell_type": "code",
   "source": [
    "model=Sequential()\n",
    "model.add(LSTM(units=50, activation=\"relu\",return_sequences=True,\n",
    "               input_shape=((x.shape[1],1))))\n",
    "model.add(Dropout(0.2))\n",
    "\n",
    "model.add(LSTM(units=60,activation=\"relu\",return_sequences=True))\n",
    "model.add(Dropout(0.3))\n",
    "\n",
    "model.add(LSTM(units=80,activation=\"relu\",return_sequences=True))\n",
    "model.add(Dropout(0.4))\n",
    "\n",
    "model.add(LSTM(units=120,activation=\"relu\"))\n",
    "model.add(Dropout(0.5))\n",
    "\n",
    "model.add(Dense(units=1))\n"
   ],
   "metadata": {
    "colab": {
     "base_uri": "https://localhost:8080/"
    },
    "id": "rN9oDW0L3pv4",
    "outputId": "f9feecc6-f6a4-470a-8fdb-06e8aca9350e",
    "ExecuteTime": {
     "end_time": "2025-07-27T09:19:37.389926Z",
     "start_time": "2025-07-27T09:19:37.175834Z"
    }
   },
   "outputs": [
    {
     "name": "stderr",
     "output_type": "stream",
     "text": [
      "C:\\Users\\asus\\AppData\\Local\\Packages\\PythonSoftwareFoundation.Python.3.12_qbz5n2kfra8p0\\LocalCache\\local-packages\\Python312\\site-packages\\keras\\src\\layers\\rnn\\rnn.py:199: UserWarning: Do not pass an `input_shape`/`input_dim` argument to a layer. When using Sequential models, prefer using an `Input(shape)` object as the first layer in the model instead.\n",
      "  super().__init__(**kwargs)\n"
     ]
    }
   ],
   "execution_count": 54
  },
  {
   "cell_type": "code",
   "source": [
    "from re import VERBOSE\n",
    "model.compile(optimizer=\"adam\",loss=\"mean_squared_error\")\n",
    "model.fit(x, y, epochs=50, batch_size=32, verbose=1)"
   ],
   "metadata": {
    "colab": {
     "base_uri": "https://localhost:8080/"
    },
    "id": "-h4EfCOd6BUu",
    "outputId": "571f39d1-6e77-4741-f66d-974d46f72545",
    "ExecuteTime": {
     "end_time": "2025-07-27T09:28:56.906698Z",
     "start_time": "2025-07-27T09:19:37.443781Z"
    }
   },
   "outputs": [
    {
     "name": "stdout",
     "output_type": "stream",
     "text": [
      "Epoch 1/50\n",
      "\u001B[1m66/66\u001B[0m \u001B[32m━━━━━━━━━━━━━━━━━━━━\u001B[0m\u001B[37m\u001B[0m \u001B[1m22s\u001B[0m 151ms/step - loss: 0.0570\n",
      "Epoch 2/50\n",
      "\u001B[1m66/66\u001B[0m \u001B[32m━━━━━━━━━━━━━━━━━━━━\u001B[0m\u001B[37m\u001B[0m \u001B[1m10s\u001B[0m 147ms/step - loss: 0.0074\n",
      "Epoch 3/50\n",
      "\u001B[1m66/66\u001B[0m \u001B[32m━━━━━━━━━━━━━━━━━━━━\u001B[0m\u001B[37m\u001B[0m \u001B[1m10s\u001B[0m 148ms/step - loss: 0.0069\n",
      "Epoch 4/50\n",
      "\u001B[1m66/66\u001B[0m \u001B[32m━━━━━━━━━━━━━━━━━━━━\u001B[0m\u001B[37m\u001B[0m \u001B[1m10s\u001B[0m 151ms/step - loss: 0.0055\n",
      "Epoch 5/50\n",
      "\u001B[1m66/66\u001B[0m \u001B[32m━━━━━━━━━━━━━━━━━━━━\u001B[0m\u001B[37m\u001B[0m \u001B[1m10s\u001B[0m 152ms/step - loss: 0.0047\n",
      "Epoch 6/50\n",
      "\u001B[1m66/66\u001B[0m \u001B[32m━━━━━━━━━━━━━━━━━━━━\u001B[0m\u001B[37m\u001B[0m \u001B[1m12s\u001B[0m 174ms/step - loss: 0.0043\n",
      "Epoch 7/50\n",
      "\u001B[1m66/66\u001B[0m \u001B[32m━━━━━━━━━━━━━━━━━━━━\u001B[0m\u001B[37m\u001B[0m \u001B[1m11s\u001B[0m 173ms/step - loss: 0.0041\n",
      "Epoch 8/50\n",
      "\u001B[1m66/66\u001B[0m \u001B[32m━━━━━━━━━━━━━━━━━━━━\u001B[0m\u001B[37m\u001B[0m \u001B[1m11s\u001B[0m 168ms/step - loss: 0.0038\n",
      "Epoch 9/50\n",
      "\u001B[1m66/66\u001B[0m \u001B[32m━━━━━━━━━━━━━━━━━━━━\u001B[0m\u001B[37m\u001B[0m \u001B[1m10s\u001B[0m 145ms/step - loss: 0.0040\n",
      "Epoch 10/50\n",
      "\u001B[1m66/66\u001B[0m \u001B[32m━━━━━━━━━━━━━━━━━━━━\u001B[0m\u001B[37m\u001B[0m \u001B[1m10s\u001B[0m 147ms/step - loss: 0.0037\n",
      "Epoch 11/50\n",
      "\u001B[1m66/66\u001B[0m \u001B[32m━━━━━━━━━━━━━━━━━━━━\u001B[0m\u001B[37m\u001B[0m \u001B[1m9s\u001B[0m 142ms/step - loss: 0.0037\n",
      "Epoch 12/50\n",
      "\u001B[1m66/66\u001B[0m \u001B[32m━━━━━━━━━━━━━━━━━━━━\u001B[0m\u001B[37m\u001B[0m \u001B[1m10s\u001B[0m 146ms/step - loss: 0.0048\n",
      "Epoch 13/50\n",
      "\u001B[1m66/66\u001B[0m \u001B[32m━━━━━━━━━━━━━━━━━━━━\u001B[0m\u001B[37m\u001B[0m \u001B[1m9s\u001B[0m 143ms/step - loss: 0.0045\n",
      "Epoch 14/50\n",
      "\u001B[1m66/66\u001B[0m \u001B[32m━━━━━━━━━━━━━━━━━━━━\u001B[0m\u001B[37m\u001B[0m \u001B[1m10s\u001B[0m 149ms/step - loss: 0.0037\n",
      "Epoch 15/50\n",
      "\u001B[1m66/66\u001B[0m \u001B[32m━━━━━━━━━━━━━━━━━━━━\u001B[0m\u001B[37m\u001B[0m \u001B[1m10s\u001B[0m 150ms/step - loss: 0.0040\n",
      "Epoch 16/50\n",
      "\u001B[1m66/66\u001B[0m \u001B[32m━━━━━━━━━━━━━━━━━━━━\u001B[0m\u001B[37m\u001B[0m \u001B[1m11s\u001B[0m 173ms/step - loss: 0.0035\n",
      "Epoch 17/50\n",
      "\u001B[1m66/66\u001B[0m \u001B[32m━━━━━━━━━━━━━━━━━━━━\u001B[0m\u001B[37m\u001B[0m \u001B[1m12s\u001B[0m 179ms/step - loss: 0.0040\n",
      "Epoch 18/50\n",
      "\u001B[1m66/66\u001B[0m \u001B[32m━━━━━━━━━━━━━━━━━━━━\u001B[0m\u001B[37m\u001B[0m \u001B[1m12s\u001B[0m 177ms/step - loss: 0.0032\n",
      "Epoch 19/50\n",
      "\u001B[1m66/66\u001B[0m \u001B[32m━━━━━━━━━━━━━━━━━━━━\u001B[0m\u001B[37m\u001B[0m \u001B[1m12s\u001B[0m 174ms/step - loss: 0.0033\n",
      "Epoch 20/50\n",
      "\u001B[1m66/66\u001B[0m \u001B[32m━━━━━━━━━━━━━━━━━━━━\u001B[0m\u001B[37m\u001B[0m \u001B[1m11s\u001B[0m 171ms/step - loss: 0.0030\n",
      "Epoch 21/50\n",
      "\u001B[1m66/66\u001B[0m \u001B[32m━━━━━━━━━━━━━━━━━━━━\u001B[0m\u001B[37m\u001B[0m \u001B[1m11s\u001B[0m 171ms/step - loss: 0.0031\n",
      "Epoch 22/50\n",
      "\u001B[1m66/66\u001B[0m \u001B[32m━━━━━━━━━━━━━━━━━━━━\u001B[0m\u001B[37m\u001B[0m \u001B[1m12s\u001B[0m 176ms/step - loss: 0.0027\n",
      "Epoch 23/50\n",
      "\u001B[1m66/66\u001B[0m \u001B[32m━━━━━━━━━━━━━━━━━━━━\u001B[0m\u001B[37m\u001B[0m \u001B[1m12s\u001B[0m 176ms/step - loss: 0.0030\n",
      "Epoch 24/50\n",
      "\u001B[1m66/66\u001B[0m \u001B[32m━━━━━━━━━━━━━━━━━━━━\u001B[0m\u001B[37m\u001B[0m \u001B[1m11s\u001B[0m 173ms/step - loss: 0.0029\n",
      "Epoch 25/50\n",
      "\u001B[1m66/66\u001B[0m \u001B[32m━━━━━━━━━━━━━━━━━━━━\u001B[0m\u001B[37m\u001B[0m \u001B[1m12s\u001B[0m 177ms/step - loss: 0.0029\n",
      "Epoch 26/50\n",
      "\u001B[1m66/66\u001B[0m \u001B[32m━━━━━━━━━━━━━━━━━━━━\u001B[0m\u001B[37m\u001B[0m \u001B[1m11s\u001B[0m 173ms/step - loss: 0.0029\n",
      "Epoch 27/50\n",
      "\u001B[1m66/66\u001B[0m \u001B[32m━━━━━━━━━━━━━━━━━━━━\u001B[0m\u001B[37m\u001B[0m \u001B[1m11s\u001B[0m 172ms/step - loss: 0.0026\n",
      "Epoch 28/50\n",
      "\u001B[1m66/66\u001B[0m \u001B[32m━━━━━━━━━━━━━━━━━━━━\u001B[0m\u001B[37m\u001B[0m \u001B[1m11s\u001B[0m 172ms/step - loss: 0.0029\n",
      "Epoch 29/50\n",
      "\u001B[1m66/66\u001B[0m \u001B[32m━━━━━━━━━━━━━━━━━━━━\u001B[0m\u001B[37m\u001B[0m \u001B[1m12s\u001B[0m 176ms/step - loss: 0.0026\n",
      "Epoch 30/50\n",
      "\u001B[1m66/66\u001B[0m \u001B[32m━━━━━━━━━━━━━━━━━━━━\u001B[0m\u001B[37m\u001B[0m \u001B[1m11s\u001B[0m 171ms/step - loss: 0.0027\n",
      "Epoch 31/50\n",
      "\u001B[1m66/66\u001B[0m \u001B[32m━━━━━━━━━━━━━━━━━━━━\u001B[0m\u001B[37m\u001B[0m \u001B[1m11s\u001B[0m 171ms/step - loss: 0.0024\n",
      "Epoch 32/50\n",
      "\u001B[1m66/66\u001B[0m \u001B[32m━━━━━━━━━━━━━━━━━━━━\u001B[0m\u001B[37m\u001B[0m \u001B[1m11s\u001B[0m 171ms/step - loss: 0.0036\n",
      "Epoch 33/50\n",
      "\u001B[1m66/66\u001B[0m \u001B[32m━━━━━━━━━━━━━━━━━━━━\u001B[0m\u001B[37m\u001B[0m \u001B[1m12s\u001B[0m 174ms/step - loss: 0.0028\n",
      "Epoch 34/50\n",
      "\u001B[1m66/66\u001B[0m \u001B[32m━━━━━━━━━━━━━━━━━━━━\u001B[0m\u001B[37m\u001B[0m \u001B[1m12s\u001B[0m 174ms/step - loss: 0.0025\n",
      "Epoch 35/50\n",
      "\u001B[1m66/66\u001B[0m \u001B[32m━━━━━━━━━━━━━━━━━━━━\u001B[0m\u001B[37m\u001B[0m \u001B[1m11s\u001B[0m 173ms/step - loss: 0.0027\n",
      "Epoch 36/50\n",
      "\u001B[1m66/66\u001B[0m \u001B[32m━━━━━━━━━━━━━━━━━━━━\u001B[0m\u001B[37m\u001B[0m \u001B[1m12s\u001B[0m 175ms/step - loss: 0.0027\n",
      "Epoch 37/50\n",
      "\u001B[1m66/66\u001B[0m \u001B[32m━━━━━━━━━━━━━━━━━━━━\u001B[0m\u001B[37m\u001B[0m \u001B[1m12s\u001B[0m 182ms/step - loss: 0.0023\n",
      "Epoch 38/50\n",
      "\u001B[1m66/66\u001B[0m \u001B[32m━━━━━━━━━━━━━━━━━━━━\u001B[0m\u001B[37m\u001B[0m \u001B[1m12s\u001B[0m 175ms/step - loss: 0.0025\n",
      "Epoch 39/50\n",
      "\u001B[1m66/66\u001B[0m \u001B[32m━━━━━━━━━━━━━━━━━━━━\u001B[0m\u001B[37m\u001B[0m \u001B[1m12s\u001B[0m 176ms/step - loss: 0.0026\n",
      "Epoch 40/50\n",
      "\u001B[1m66/66\u001B[0m \u001B[32m━━━━━━━━━━━━━━━━━━━━\u001B[0m\u001B[37m\u001B[0m \u001B[1m12s\u001B[0m 174ms/step - loss: 0.0024\n",
      "Epoch 41/50\n",
      "\u001B[1m66/66\u001B[0m \u001B[32m━━━━━━━━━━━━━━━━━━━━\u001B[0m\u001B[37m\u001B[0m \u001B[1m11s\u001B[0m 160ms/step - loss: 0.0022\n",
      "Epoch 42/50\n",
      "\u001B[1m66/66\u001B[0m \u001B[32m━━━━━━━━━━━━━━━━━━━━\u001B[0m\u001B[37m\u001B[0m \u001B[1m10s\u001B[0m 151ms/step - loss: 0.0023\n",
      "Epoch 43/50\n",
      "\u001B[1m66/66\u001B[0m \u001B[32m━━━━━━━━━━━━━━━━━━━━\u001B[0m\u001B[37m\u001B[0m \u001B[1m10s\u001B[0m 145ms/step - loss: 0.0027\n",
      "Epoch 44/50\n",
      "\u001B[1m66/66\u001B[0m \u001B[32m━━━━━━━━━━━━━━━━━━━━\u001B[0m\u001B[37m\u001B[0m \u001B[1m11s\u001B[0m 161ms/step - loss: 0.0026\n",
      "Epoch 45/50\n",
      "\u001B[1m66/66\u001B[0m \u001B[32m━━━━━━━━━━━━━━━━━━━━\u001B[0m\u001B[37m\u001B[0m \u001B[1m12s\u001B[0m 177ms/step - loss: 0.0024\n",
      "Epoch 46/50\n",
      "\u001B[1m66/66\u001B[0m \u001B[32m━━━━━━━━━━━━━━━━━━━━\u001B[0m\u001B[37m\u001B[0m \u001B[1m12s\u001B[0m 174ms/step - loss: 0.0028\n",
      "Epoch 47/50\n",
      "\u001B[1m66/66\u001B[0m \u001B[32m━━━━━━━━━━━━━━━━━━━━\u001B[0m\u001B[37m\u001B[0m \u001B[1m12s\u001B[0m 178ms/step - loss: 0.0023\n",
      "Epoch 48/50\n",
      "\u001B[1m66/66\u001B[0m \u001B[32m━━━━━━━━━━━━━━━━━━━━\u001B[0m\u001B[37m\u001B[0m \u001B[1m12s\u001B[0m 177ms/step - loss: 0.0022\n",
      "Epoch 49/50\n",
      "\u001B[1m66/66\u001B[0m \u001B[32m━━━━━━━━━━━━━━━━━━━━\u001B[0m\u001B[37m\u001B[0m \u001B[1m10s\u001B[0m 143ms/step - loss: 0.0021\n",
      "Epoch 50/50\n",
      "\u001B[1m66/66\u001B[0m \u001B[32m━━━━━━━━━━━━━━━━━━━━\u001B[0m\u001B[37m\u001B[0m \u001B[1m10s\u001B[0m 145ms/step - loss: 0.0024\n"
     ]
    },
    {
     "data": {
      "text/plain": [
       "<keras.src.callbacks.history.History at 0x1c9283c9370>"
      ]
     },
     "execution_count": 55,
     "metadata": {},
     "output_type": "execute_result"
    }
   ],
   "execution_count": 55
  },
  {
   "cell_type": "code",
   "source": [
    "model.summary()"
   ],
   "metadata": {
    "id": "-pccZuRb7EaH",
    "ExecuteTime": {
     "end_time": "2025-07-27T09:28:57.027769Z",
     "start_time": "2025-07-27T09:28:56.992001Z"
    }
   },
   "outputs": [
    {
     "data": {
      "text/plain": [
       "\u001B[1mModel: \"sequential_3\"\u001B[0m\n"
      ],
      "text/html": [
       "<pre style=\"white-space:pre;overflow-x:auto;line-height:normal;font-family:Menlo,'DejaVu Sans Mono',consolas,'Courier New',monospace\"><span style=\"font-weight: bold\">Model: \"sequential_3\"</span>\n",
       "</pre>\n"
      ]
     },
     "metadata": {},
     "output_type": "display_data"
    },
    {
     "data": {
      "text/plain": [
       "┏━━━━━━━━━━━━━━━━━━━━━━━━━━━━━━━━━┳━━━━━━━━━━━━━━━━━━━━━━━━┳━━━━━━━━━━━━━━━┓\n",
       "┃\u001B[1m \u001B[0m\u001B[1mLayer (type)                   \u001B[0m\u001B[1m \u001B[0m┃\u001B[1m \u001B[0m\u001B[1mOutput Shape          \u001B[0m\u001B[1m \u001B[0m┃\u001B[1m \u001B[0m\u001B[1m      Param #\u001B[0m\u001B[1m \u001B[0m┃\n",
       "┡━━━━━━━━━━━━━━━━━━━━━━━━━━━━━━━━━╇━━━━━━━━━━━━━━━━━━━━━━━━╇━━━━━━━━━━━━━━━┩\n",
       "│ lstm_12 (\u001B[38;5;33mLSTM\u001B[0m)                  │ (\u001B[38;5;45mNone\u001B[0m, \u001B[38;5;34m100\u001B[0m, \u001B[38;5;34m50\u001B[0m)        │        \u001B[38;5;34m10,400\u001B[0m │\n",
       "├─────────────────────────────────┼────────────────────────┼───────────────┤\n",
       "│ dropout_12 (\u001B[38;5;33mDropout\u001B[0m)            │ (\u001B[38;5;45mNone\u001B[0m, \u001B[38;5;34m100\u001B[0m, \u001B[38;5;34m50\u001B[0m)        │             \u001B[38;5;34m0\u001B[0m │\n",
       "├─────────────────────────────────┼────────────────────────┼───────────────┤\n",
       "│ lstm_13 (\u001B[38;5;33mLSTM\u001B[0m)                  │ (\u001B[38;5;45mNone\u001B[0m, \u001B[38;5;34m100\u001B[0m, \u001B[38;5;34m60\u001B[0m)        │        \u001B[38;5;34m26,640\u001B[0m │\n",
       "├─────────────────────────────────┼────────────────────────┼───────────────┤\n",
       "│ dropout_13 (\u001B[38;5;33mDropout\u001B[0m)            │ (\u001B[38;5;45mNone\u001B[0m, \u001B[38;5;34m100\u001B[0m, \u001B[38;5;34m60\u001B[0m)        │             \u001B[38;5;34m0\u001B[0m │\n",
       "├─────────────────────────────────┼────────────────────────┼───────────────┤\n",
       "│ lstm_14 (\u001B[38;5;33mLSTM\u001B[0m)                  │ (\u001B[38;5;45mNone\u001B[0m, \u001B[38;5;34m100\u001B[0m, \u001B[38;5;34m80\u001B[0m)        │        \u001B[38;5;34m45,120\u001B[0m │\n",
       "├─────────────────────────────────┼────────────────────────┼───────────────┤\n",
       "│ dropout_14 (\u001B[38;5;33mDropout\u001B[0m)            │ (\u001B[38;5;45mNone\u001B[0m, \u001B[38;5;34m100\u001B[0m, \u001B[38;5;34m80\u001B[0m)        │             \u001B[38;5;34m0\u001B[0m │\n",
       "├─────────────────────────────────┼────────────────────────┼───────────────┤\n",
       "│ lstm_15 (\u001B[38;5;33mLSTM\u001B[0m)                  │ (\u001B[38;5;45mNone\u001B[0m, \u001B[38;5;34m120\u001B[0m)            │        \u001B[38;5;34m96,480\u001B[0m │\n",
       "├─────────────────────────────────┼────────────────────────┼───────────────┤\n",
       "│ dropout_15 (\u001B[38;5;33mDropout\u001B[0m)            │ (\u001B[38;5;45mNone\u001B[0m, \u001B[38;5;34m120\u001B[0m)            │             \u001B[38;5;34m0\u001B[0m │\n",
       "├─────────────────────────────────┼────────────────────────┼───────────────┤\n",
       "│ dense_3 (\u001B[38;5;33mDense\u001B[0m)                 │ (\u001B[38;5;45mNone\u001B[0m, \u001B[38;5;34m1\u001B[0m)              │           \u001B[38;5;34m121\u001B[0m │\n",
       "└─────────────────────────────────┴────────────────────────┴───────────────┘\n"
      ],
      "text/html": [
       "<pre style=\"white-space:pre;overflow-x:auto;line-height:normal;font-family:Menlo,'DejaVu Sans Mono',consolas,'Courier New',monospace\">┏━━━━━━━━━━━━━━━━━━━━━━━━━━━━━━━━━┳━━━━━━━━━━━━━━━━━━━━━━━━┳━━━━━━━━━━━━━━━┓\n",
       "┃<span style=\"font-weight: bold\"> Layer (type)                    </span>┃<span style=\"font-weight: bold\"> Output Shape           </span>┃<span style=\"font-weight: bold\">       Param # </span>┃\n",
       "┡━━━━━━━━━━━━━━━━━━━━━━━━━━━━━━━━━╇━━━━━━━━━━━━━━━━━━━━━━━━╇━━━━━━━━━━━━━━━┩\n",
       "│ lstm_12 (<span style=\"color: #0087ff; text-decoration-color: #0087ff\">LSTM</span>)                  │ (<span style=\"color: #00d7ff; text-decoration-color: #00d7ff\">None</span>, <span style=\"color: #00af00; text-decoration-color: #00af00\">100</span>, <span style=\"color: #00af00; text-decoration-color: #00af00\">50</span>)        │        <span style=\"color: #00af00; text-decoration-color: #00af00\">10,400</span> │\n",
       "├─────────────────────────────────┼────────────────────────┼───────────────┤\n",
       "│ dropout_12 (<span style=\"color: #0087ff; text-decoration-color: #0087ff\">Dropout</span>)            │ (<span style=\"color: #00d7ff; text-decoration-color: #00d7ff\">None</span>, <span style=\"color: #00af00; text-decoration-color: #00af00\">100</span>, <span style=\"color: #00af00; text-decoration-color: #00af00\">50</span>)        │             <span style=\"color: #00af00; text-decoration-color: #00af00\">0</span> │\n",
       "├─────────────────────────────────┼────────────────────────┼───────────────┤\n",
       "│ lstm_13 (<span style=\"color: #0087ff; text-decoration-color: #0087ff\">LSTM</span>)                  │ (<span style=\"color: #00d7ff; text-decoration-color: #00d7ff\">None</span>, <span style=\"color: #00af00; text-decoration-color: #00af00\">100</span>, <span style=\"color: #00af00; text-decoration-color: #00af00\">60</span>)        │        <span style=\"color: #00af00; text-decoration-color: #00af00\">26,640</span> │\n",
       "├─────────────────────────────────┼────────────────────────┼───────────────┤\n",
       "│ dropout_13 (<span style=\"color: #0087ff; text-decoration-color: #0087ff\">Dropout</span>)            │ (<span style=\"color: #00d7ff; text-decoration-color: #00d7ff\">None</span>, <span style=\"color: #00af00; text-decoration-color: #00af00\">100</span>, <span style=\"color: #00af00; text-decoration-color: #00af00\">60</span>)        │             <span style=\"color: #00af00; text-decoration-color: #00af00\">0</span> │\n",
       "├─────────────────────────────────┼────────────────────────┼───────────────┤\n",
       "│ lstm_14 (<span style=\"color: #0087ff; text-decoration-color: #0087ff\">LSTM</span>)                  │ (<span style=\"color: #00d7ff; text-decoration-color: #00d7ff\">None</span>, <span style=\"color: #00af00; text-decoration-color: #00af00\">100</span>, <span style=\"color: #00af00; text-decoration-color: #00af00\">80</span>)        │        <span style=\"color: #00af00; text-decoration-color: #00af00\">45,120</span> │\n",
       "├─────────────────────────────────┼────────────────────────┼───────────────┤\n",
       "│ dropout_14 (<span style=\"color: #0087ff; text-decoration-color: #0087ff\">Dropout</span>)            │ (<span style=\"color: #00d7ff; text-decoration-color: #00d7ff\">None</span>, <span style=\"color: #00af00; text-decoration-color: #00af00\">100</span>, <span style=\"color: #00af00; text-decoration-color: #00af00\">80</span>)        │             <span style=\"color: #00af00; text-decoration-color: #00af00\">0</span> │\n",
       "├─────────────────────────────────┼────────────────────────┼───────────────┤\n",
       "│ lstm_15 (<span style=\"color: #0087ff; text-decoration-color: #0087ff\">LSTM</span>)                  │ (<span style=\"color: #00d7ff; text-decoration-color: #00d7ff\">None</span>, <span style=\"color: #00af00; text-decoration-color: #00af00\">120</span>)            │        <span style=\"color: #00af00; text-decoration-color: #00af00\">96,480</span> │\n",
       "├─────────────────────────────────┼────────────────────────┼───────────────┤\n",
       "│ dropout_15 (<span style=\"color: #0087ff; text-decoration-color: #0087ff\">Dropout</span>)            │ (<span style=\"color: #00d7ff; text-decoration-color: #00d7ff\">None</span>, <span style=\"color: #00af00; text-decoration-color: #00af00\">120</span>)            │             <span style=\"color: #00af00; text-decoration-color: #00af00\">0</span> │\n",
       "├─────────────────────────────────┼────────────────────────┼───────────────┤\n",
       "│ dense_3 (<span style=\"color: #0087ff; text-decoration-color: #0087ff\">Dense</span>)                 │ (<span style=\"color: #00d7ff; text-decoration-color: #00d7ff\">None</span>, <span style=\"color: #00af00; text-decoration-color: #00af00\">1</span>)              │           <span style=\"color: #00af00; text-decoration-color: #00af00\">121</span> │\n",
       "└─────────────────────────────────┴────────────────────────┴───────────────┘\n",
       "</pre>\n"
      ]
     },
     "metadata": {},
     "output_type": "display_data"
    },
    {
     "data": {
      "text/plain": [
       "\u001B[1m Total params: \u001B[0m\u001B[38;5;34m536,285\u001B[0m (2.05 MB)\n"
      ],
      "text/html": [
       "<pre style=\"white-space:pre;overflow-x:auto;line-height:normal;font-family:Menlo,'DejaVu Sans Mono',consolas,'Courier New',monospace\"><span style=\"font-weight: bold\"> Total params: </span><span style=\"color: #00af00; text-decoration-color: #00af00\">536,285</span> (2.05 MB)\n",
       "</pre>\n"
      ]
     },
     "metadata": {},
     "output_type": "display_data"
    },
    {
     "data": {
      "text/plain": [
       "\u001B[1m Trainable params: \u001B[0m\u001B[38;5;34m178,761\u001B[0m (698.29 KB)\n"
      ],
      "text/html": [
       "<pre style=\"white-space:pre;overflow-x:auto;line-height:normal;font-family:Menlo,'DejaVu Sans Mono',consolas,'Courier New',monospace\"><span style=\"font-weight: bold\"> Trainable params: </span><span style=\"color: #00af00; text-decoration-color: #00af00\">178,761</span> (698.29 KB)\n",
       "</pre>\n"
      ]
     },
     "metadata": {},
     "output_type": "display_data"
    },
    {
     "data": {
      "text/plain": [
       "\u001B[1m Non-trainable params: \u001B[0m\u001B[38;5;34m0\u001B[0m (0.00 B)\n"
      ],
      "text/html": [
       "<pre style=\"white-space:pre;overflow-x:auto;line-height:normal;font-family:Menlo,'DejaVu Sans Mono',consolas,'Courier New',monospace\"><span style=\"font-weight: bold\"> Non-trainable params: </span><span style=\"color: #00af00; text-decoration-color: #00af00\">0</span> (0.00 B)\n",
       "</pre>\n"
      ]
     },
     "metadata": {},
     "output_type": "display_data"
    },
    {
     "data": {
      "text/plain": [
       "\u001B[1m Optimizer params: \u001B[0m\u001B[38;5;34m357,524\u001B[0m (1.36 MB)\n"
      ],
      "text/html": [
       "<pre style=\"white-space:pre;overflow-x:auto;line-height:normal;font-family:Menlo,'DejaVu Sans Mono',consolas,'Courier New',monospace\"><span style=\"font-weight: bold\"> Optimizer params: </span><span style=\"color: #00af00; text-decoration-color: #00af00\">357,524</span> (1.36 MB)\n",
       "</pre>\n"
      ]
     },
     "metadata": {},
     "output_type": "display_data"
    }
   ],
   "execution_count": 56
  },
  {
   "cell_type": "code",
   "source": [
    "past_100_days=data_train.tail(100)"
   ],
   "metadata": {
    "id": "huZIj4dCLiir",
    "ExecuteTime": {
     "end_time": "2025-07-27T09:28:57.136937Z",
     "start_time": "2025-07-27T09:28:57.128202Z"
    }
   },
   "outputs": [],
   "execution_count": 57
  },
  {
   "cell_type": "code",
   "source": [
    "data_test=pd.concat([past_100_days,data_test],ignore_index=True)"
   ],
   "metadata": {
    "id": "3CrhBwFhNc30",
    "ExecuteTime": {
     "end_time": "2025-07-27T09:28:57.159006Z",
     "start_time": "2025-07-27T09:28:57.152358Z"
    }
   },
   "outputs": [],
   "execution_count": 58
  },
  {
   "cell_type": "code",
   "source": [
    "data_test_scale=scaler.fit_transform(data_test)"
   ],
   "metadata": {
    "id": "9BURUAYCNr7M",
    "ExecuteTime": {
     "end_time": "2025-07-27T09:28:57.259438Z",
     "start_time": "2025-07-27T09:28:57.247995Z"
    }
   },
   "outputs": [],
   "execution_count": 59
  },
  {
   "cell_type": "code",
   "source": [
    "x=[]\n",
    "y=[]\n",
    "for i in range(100,data_test_scale.shape[0]):\n",
    "  x.append(data_test_scale[i-100:i])\n",
    "  y.append(data_test_scale[i,0])\n",
    "x,y=np.array(x),np.array(y)"
   ],
   "metadata": {
    "id": "l-DqID2dNyc_",
    "ExecuteTime": {
     "end_time": "2025-07-27T09:28:57.319607Z",
     "start_time": "2025-07-27T09:28:57.309382Z"
    }
   },
   "outputs": [],
   "execution_count": 60
  },
  {
   "cell_type": "code",
   "source": [
    "y_predict=model.predict(x)"
   ],
   "metadata": {
    "id": "NVoliCBMOYHK",
    "ExecuteTime": {
     "end_time": "2025-07-27T09:28:59.646583Z",
     "start_time": "2025-07-27T09:28:57.364033Z"
    }
   },
   "outputs": [
    {
     "name": "stdout",
     "output_type": "stream",
     "text": [
      "\u001B[1m18/18\u001B[0m \u001B[32m━━━━━━━━━━━━━━━━━━━━\u001B[0m\u001B[37m\u001B[0m \u001B[1m2s\u001B[0m 101ms/step\n"
     ]
    }
   ],
   "execution_count": 61
  },
  {
   "cell_type": "code",
   "source": [
    "#convert prediction values(0-1)to actual values\n",
    "scale=1/scaler.scale_"
   ],
   "metadata": {
    "id": "5LsyCrvdOn_8",
    "ExecuteTime": {
     "end_time": "2025-07-27T09:28:59.702786Z",
     "start_time": "2025-07-27T09:28:59.694787Z"
    }
   },
   "outputs": [],
   "execution_count": 62
  },
  {
   "cell_type": "code",
   "source": [
    "y_predict=y_predict*scale"
   ],
   "metadata": {
    "id": "wm5KNzD6PS0U",
    "ExecuteTime": {
     "end_time": "2025-07-27T09:28:59.775143Z",
     "start_time": "2025-07-27T09:28:59.751644Z"
    }
   },
   "outputs": [],
   "execution_count": 63
  },
  {
   "metadata": {},
   "cell_type": "markdown",
   "source": ""
  },
  {
   "cell_type": "code",
   "source": [
    "y=y*scale"
   ],
   "metadata": {
    "id": "BwcObg1QPk5_",
    "ExecuteTime": {
     "end_time": "2025-07-27T09:28:59.827932Z",
     "start_time": "2025-07-27T09:28:59.820843Z"
    }
   },
   "outputs": [],
   "execution_count": 64
  },
  {
   "cell_type": "code",
   "source": [
    "plt.figure(figsize=(10,8))\n",
    "plt.plot(y_predict,'r',label=\"predicted_price\")\n",
    "plt.plot(y,'g',label=\"original_price\")\n",
    "plt.xlabel(\"Time\")\n",
    "plt.ylabel(\"Price\")\n",
    "plt.legend()\n",
    "plt.show()"
   ],
   "metadata": {
    "colab": {
     "base_uri": "https://localhost:8080/",
     "height": 696
    },
    "id": "C_jHm6crPqFg",
    "outputId": "6585f8f7-d71c-436e-d430-b1cadc815126",
    "ExecuteTime": {
     "end_time": "2025-07-27T09:29:00.134441Z",
     "start_time": "2025-07-27T09:28:59.873514Z"
    }
   },
   "outputs": [
    {
     "data": {
      "text/plain": [
       "<Figure size 1000x800 with 1 Axes>"
      ],
      "image/png": "[encoded data removed]"
     },
     "metadata": {},
     "output_type": "display_data"
    }
   ],
   "execution_count": 65
  },
  {
   "cell_type": "code",
   "source": "model.save('stock_price_prediction.keras')",
   "metadata": {
    "id": "nis60OhE4OxY",
    "ExecuteTime": {
     "end_time": "2025-07-27T09:29:00.450121Z",
     "start_time": "2025-07-27T09:29:00.363719Z"
    }
   },
   "outputs": [],
   "execution_count": 67
  },
  {
   "cell_type": "code",
   "source": "",
   "metadata": {
    "id": "8LGl6k7o40bv",
    "ExecuteTime": {
     "end_time": "2025-07-27T09:29:00.319850Z",
     "start_time": "2025-07-27T09:29:00.315643Z"
    }
   },
   "outputs": [],
   "execution_count": null
  }
 ]
}
